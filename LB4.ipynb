{
  "nbformat": 4,
  "nbformat_minor": 0,
  "metadata": {
    "colab": {
      "provenance": []
    },
    "kernelspec": {
      "name": "python3",
      "display_name": "Python 3"
    },
    "language_info": {
      "name": "python"
    }
  },
  "cells": [
    {
      "cell_type": "code",
      "execution_count": 1,
      "metadata": {
        "id": "2DsNnuQgnfia"
      },
      "outputs": [],
      "source": [
        "restaurants = [\"435 s la cienega blv  los angeles 1 arnie morton s of chicago 310 246 1501 american\",\n",
        "\"435 s la cienega blvd  los angeles 2 arnie morton s of chicago 310 246 1501 steakhouses\",\n",
        "\"12224 ventura blvd  studio city 3 art s delicatessen 818 762 1221 american\",\n",
        "\"12224 ventura blvd  studio city 4 art s deli 818 762 1221 delis\",\n",
        "\"701 stone canyon rd  bel air 5 hotel bel air 310 472 1211 californian\",\n",
        "\"701 stone canyon rd  bel air 6 bel air hotel 310 472 1211 californian\",\n",
        "\"14016 ventura blvd  sherman oaks 7 cafe bizou 818 788 3536 french\",\n",
        "\"14016 ventura blvd  sherman oaks 8 cafe bizou 818 788 3536 french bistro\",\n",
        "\"624 s la brea ave  los angeles 9 campanile 213 938 1447 american\",\n",
        "\"624 s la brea ave  los angeles 10 campanile 213 938 1447 californian\",\n",
        "\"2709 main st  santa monica 11 chinois on main 310 392 9025 french\",\n",
        "\"2709 main st  santa monica 12 chinois on main 310 392 9025 pacific new wave\",\n",
        "\"6703 melrose ave  los angeles 13 citrus 213 857 0034 californian\",\n",
        "\"6703 melrose ave  los angeles 14 citrus 213 857 0034 californian\",\n",
        "\"8358 sunset blvd west hollywood 15 fenix 213 848 6677 american\",\n",
        "\"8358 sunset blvd  w hollywood 16 fenix at the argyle 213 848 6677 french new\" \n",
        "]\n"
      ]
    },
    {
      "cell_type": "code",
      "source": [
        "!pip install thefuzz\n",
        "from thefuzz import fuzz\n",
        "from statistics import mean"
      ],
      "metadata": {
        "colab": {
          "base_uri": "https://localhost:8080/"
        },
        "id": "lgfVKYfnozAx",
        "outputId": "84d4efd2-9a4d-4153-92d1-d68c5adb8982"
      },
      "execution_count": 5,
      "outputs": [
        {
          "output_type": "stream",
          "name": "stdout",
          "text": [
            "Looking in indexes: https://pypi.org/simple, https://us-python.pkg.dev/colab-wheels/public/simple/\n",
            "Requirement already satisfied: thefuzz in /usr/local/lib/python3.9/dist-packages (0.19.0)\n"
          ]
        }
      ]
    },
    {
      "cell_type": "code",
      "source": [
        "def text_similarity(first, second, length):\n",
        "    # length - объем попарных сравнений \n",
        "    f = first.split(' ')\n",
        "    s = second.split(' ')\n",
        "    # разбиение с перекрытием (чешуйки)\n",
        "    first_split = [f[i:i+length] for i in range(0, len(f) - length)]\n",
        "    second_split = [s[i:i+length] for i in range(0, len(s) - length)]\n",
        "\n",
        "    scores = []\n",
        "\n",
        "    for f_elem, s_elem in zip(first_split, second_split):\n",
        "        # схожесть по шинглам\n",
        "        score = fuzz.ratio(' '.join(f_elem), ' '.join(s_elem))\n",
        "        scores.append(score)\n",
        "    # метрики по шинглам\n",
        "    return scores"
      ],
      "metadata": {
        "id": "lnV5pm5wozfC"
      },
      "execution_count": 14,
      "outputs": []
    },
    {
      "cell_type": "code",
      "source": [
        "def find_dup_in_list(texts_list, shingle_length):\n",
        "    res_dict = dict({i:{} for i in range(len(texts_list))})\n",
        "    for i in range(len(texts_list)-1):\n",
        "        for j in range(i+1, len(texts_list)):\n",
        "            left_text = texts_list[i]\n",
        "            right_text = texts_list[j]\n",
        "\n",
        "            result_two_texts = text_similarity(left_text, right_text, shingle_length)\n",
        "            result_mean = mean(result_two_texts)\n",
        "\n",
        "            res_dict[i][j] = result_mean\n",
        "    return res_dict"
      ],
      "metadata": {
        "id": "yjTqP2p229EG"
      },
      "execution_count": 12,
      "outputs": []
    },
    {
      "cell_type": "code",
      "source": [
        "result = find_dup_in_list(restaurants, 3)\n",
        "result\n",
        "# два соседних текста имеют похожие score, и действительно,\n",
        "# в датасете они - дубликаты"
      ],
      "metadata": {
        "colab": {
          "base_uri": "https://localhost:8080/"
        },
        "id": "fiiYQIM5flxf",
        "outputId": "b9e51ee7-5101-4c2c-8db5-e8f56fcbfb19"
      },
      "execution_count": 17,
      "outputs": [
        {
          "output_type": "execute_result",
          "data": {
            "text/plain": [
              "{0: {1: 97.66666666666667,\n",
              "  2: 22.363636363636363,\n",
              "  3: 22.09090909090909,\n",
              "  4: 27.083333333333332,\n",
              "  5: 30.5,\n",
              "  6: 22,\n",
              "  7: 21.363636363636363,\n",
              "  8: 62.36363636363637,\n",
              "  9: 63.63636363636363,\n",
              "  10: 25.363636363636363,\n",
              "  11: 25.76923076923077,\n",
              "  12: 27.77777777777778,\n",
              "  13: 27.77777777777778,\n",
              "  14: 25.25,\n",
              "  15: 25.76923076923077},\n",
              " 1: {2: 25.363636363636363,\n",
              "  3: 24.90909090909091,\n",
              "  4: 26.583333333333332,\n",
              "  5: 30,\n",
              "  6: 22.5,\n",
              "  7: 21.818181818181817,\n",
              "  8: 61.54545454545455,\n",
              "  9: 61,\n",
              "  10: 25.181818181818183,\n",
              "  11: 25.615384615384617,\n",
              "  12: 28.444444444444443,\n",
              "  13: 28.444444444444443,\n",
              "  14: 28.5,\n",
              "  15: 27.46153846153846},\n",
              " 2: {3: 89.54545454545455,\n",
              "  4: 24.545454545454547,\n",
              "  5: 25.181818181818183,\n",
              "  6: 42.5,\n",
              "  7: 42,\n",
              "  8: 26.272727272727273,\n",
              "  9: 26.09090909090909,\n",
              "  10: 29.363636363636363,\n",
              "  11: 29.363636363636363,\n",
              "  12: 26.555555555555557,\n",
              "  13: 22.333333333333332,\n",
              "  14: 31.875,\n",
              "  15: 31.90909090909091},\n",
              " 3: {4: 26.272727272727273,\n",
              "  5: 27.272727272727273,\n",
              "  6: 45.4,\n",
              "  7: 44.63636363636363,\n",
              "  8: 25,\n",
              "  9: 24.727272727272727,\n",
              "  10: 31.272727272727273,\n",
              "  11: 31.272727272727273,\n",
              "  12: 25.77777777777778,\n",
              "  13: 27.77777777777778,\n",
              "  14: 30.125,\n",
              "  15: 32.90909090909091},\n",
              " 4: {5: 81.5,\n",
              "  6: 21.4,\n",
              "  7: 21.545454545454547,\n",
              "  8: 28.727272727272727,\n",
              "  9: 28.545454545454547,\n",
              "  10: 28.272727272727273,\n",
              "  11: 28.333333333333332,\n",
              "  12: 29.77777777777778,\n",
              "  13: 29.77777777777778,\n",
              "  14: 19.125,\n",
              "  15: 27.25},\n",
              " 5: {6: 21.7,\n",
              "  7: 21.636363636363637,\n",
              "  8: 29.818181818181817,\n",
              "  9: 29.545454545454547,\n",
              "  10: 27.90909090909091,\n",
              "  11: 28,\n",
              "  12: 31,\n",
              "  13: 31,\n",
              "  14: 18.5,\n",
              "  15: 26.083333333333332},\n",
              " 6: {7: 97.6,\n",
              "  8: 23.2,\n",
              "  9: 23.1,\n",
              "  10: 34.2,\n",
              "  11: 34.2,\n",
              "  12: 30.555555555555557,\n",
              "  13: 30.555555555555557,\n",
              "  14: 32.25,\n",
              "  15: 33.9},\n",
              " 7: {8: 22.454545454545453,\n",
              "  9: 22.363636363636363,\n",
              "  10: 33.09090909090909,\n",
              "  11: 33.09090909090909,\n",
              "  12: 30.555555555555557,\n",
              "  13: 30.555555555555557,\n",
              "  14: 32.25,\n",
              "  15: 32.09090909090909},\n",
              " 8: {9: 97.36363636363636,\n",
              "  10: 27.727272727272727,\n",
              "  11: 27.727272727272727,\n",
              "  12: 30.11111111111111,\n",
              "  13: 30.11111111111111,\n",
              "  14: 21,\n",
              "  15: 28.636363636363637},\n",
              " 9: {10: 25.454545454545453,\n",
              "  11: 25.454545454545453,\n",
              "  12: 31.444444444444443,\n",
              "  13: 31.444444444444443,\n",
              "  14: 20.875,\n",
              "  15: 28.363636363636363},\n",
              " 10: {11: 98.0909090909091,\n",
              "  12: 34.888888888888886,\n",
              "  13: 34.888888888888886,\n",
              "  14: 20.5,\n",
              "  15: 22.727272727272727},\n",
              " 11: {12: 34.888888888888886,\n",
              "  13: 34.888888888888886,\n",
              "  14: 20.5,\n",
              "  15: 21.846153846153847},\n",
              " 12: {13: 97.66666666666667, 14: 32.75, 15: 30.555555555555557},\n",
              " 13: {14: 31.875, 15: 30.555555555555557},\n",
              " 14: {15: 61.375},\n",
              " 15: {}}"
            ]
          },
          "metadata": {},
          "execution_count": 17
        }
      ]
    },
    {
      "cell_type": "code",
      "source": [],
      "metadata": {
        "id": "M0ThCXFgmzHX"
      },
      "execution_count": null,
      "outputs": []
    }
  ]
}